{
 "cells": [
  {
   "cell_type": "markdown",
   "metadata": {
    "collapsed": true
   },
   "source": [
    "# Capstone Project - The Battle of Neighbourhoods"
   ]
  },
  {
   "cell_type": "markdown",
   "metadata": {},
   "source": [
    "## Introduction / Business Problem"
   ]
  },
  {
   "cell_type": "markdown",
   "metadata": {},
   "source": [
    "### \"Which locality of all the cities in United States would be the best place to start a ice skating rink?\""
   ]
  },
  {
   "cell_type": "markdown",
   "metadata": {},
   "source": [
    "My boss Vasanth is interested in starting a gaming arcade in the best locality of all the cities in United states. He defines a best locatlity based on the following constraints, \n",
    "\n",
    "* Population density of a locality \n",
    "* Per Capital income\n",
    "* Population of each location\n",
    "* Venues in each locality \n",
    "\n",
    "The category of the venues that he's interested in are, \n",
    "\n",
    "* Arts and Entertainment \n",
    "* Shops & Service\n",
    "* College and University\n",
    "* Event\n",
    "* Food\n",
    "* Nightife Spot\n",
    "* Outdoors & Recreation\n",
    "* Professional & Other places\n",
    "* Residence\n",
    "* Travel & Transport"
   ]
  },
  {
   "cell_type": "markdown",
   "metadata": {},
   "source": [
    "## Data"
   ]
  },
  {
   "cell_type": "markdown",
   "metadata": {},
   "source": [
    "### To help the client set up a ice skating rink, we will get the data from the below sources"
   ]
  },
  {
   "cell_type": "markdown",
   "metadata": {},
   "source": [
    "* List of all the cities in United States with population density and coordinates: https://en.wikipedia.org/wiki/List_of_United_States_cities_by_population\n",
    "* List of all the cities in United States with Per Capita Income : https://en.wikipedia.org/wiki/List_of_United_States_counties_by_per_capita_income\n",
    "\n",
    "\n",
    "Using Four Square API to get the following\n",
    "\n",
    "* List of all venues in each city \n",
    "* List of all venues in each locality in the selected city"
   ]
  },
  {
   "cell_type": "markdown",
   "metadata": {},
   "source": [
    "Using the above data we will first select best city to proceed with based on the values like Population density, per capita income of the state, number of venues (as we are giving weights to each venue based on its category). \n",
    "\n",
    "Once we select a city, we then go hunting for Localities. Again, we do it using the same approach i.e. based on the scores of venues in each locality. Once "
   ]
  },
  {
   "cell_type": "markdown",
   "metadata": {},
   "source": [
    "## Business Understanding\n",
    "### Installing a ice skating rink in a place should be done strategically.\n",
    "\n",
    "#### Firstly, you should know why to start off with a place in particular?\n",
    "\n",
    "#### If a place is chosen, you must have a very clear understanding of who would your potential customers be?\n",
    "\n",
    "#### You need to have a clear understanding of the customers spending patterns in that locality etc.\n",
    "\n",
    "#### Last but not the least, you need to take care of the legal aspects involved in that locality.\n",
    "\n",
    "## A brief about the Data:\n",
    "Here's some brief about the locaions in particular(source: wikipedia):\n",
    "\n",
    "As defined by the United States Census Bureau, an \"incorporated place\" includes a variety of designations, including city, town, village, borough, and municipality. A few exceptional census-designated places (CDPs) are also included in the Census Bureau's listing of incorporated places. Consolidated city-counties represent a distinct type of government that includes the entire population of a county, or county equivalent. Some consolidated city-counties, however, include multiple incorporated places.\n",
    "\n",
    "About the State income levels: State income levels and income data for the United States as a whole are included for comparison. Note that county-equivalents in Louisiana are called \"parishes\" and in Alaska are called in \"boroughs,\" and also that in Alaska census areas in the Unorganized Borough are county-equivalents. For states where independent cities are county-equivalents, the word \"city\" is included to identify the independent cities and to differentiate them from counties with identical names; the counties with the identical names have the word \"county\" following them. The word \"county\" is included in the names of counties that have names identical to the names of U.S. states or cities to differentiate them."
   ]
  },
  {
   "cell_type": "markdown",
   "metadata": {},
   "source": [
    "### Tools we need:\n",
    "    \n",
    "* Foursquare API\n",
    "* IBM Watson Account\n",
    "* List of United States countries by per capita income\n",
    "* List of United States cities by population\n",
    "* Jupiter Notebooks"
   ]
  },
  {
   "cell_type": "markdown",
   "metadata": {},
   "source": [
    "### Methodology\n",
    "\n",
    "In order to do the analysis and suggest the best location, following are the steps we have to follow : \n",
    "\n",
    "* The Wikipedia page (https://en.wikipedia.org/wiki/List_of_United_States_cities_by_population) was scraped using the BeautifulSoup library to build a pandas dataframe listing the cities, states, coordinates, area and population density. The dataframe was cleaned and processed appropriately.\n",
    "* The Wikipedia page (https://en.wikipedia.org/wiki/List_of_United_States_counties_by_per_capita_income) was scraped using the BeautifulSoup library to build a pandas dataframe listing the cities, states and percapita income. The dataframe was cleaned and processed appropriately.\n",
    "* The Foursquare API is then used to get the venues in each city of United States\n",
    "* Based on the categories of each venue as decided by the client, we have assigned weights to each of them and got the city that has the maximum weight. \n",
    "* Once the city is finalized, we again use Four Square API to get the venues within that city and assign weights to each category.\n",
    "* We will now use K means to cluster the venues based on the category and get the coordinates of the cluster that has maximum weight which is also our preferred location to setup a ice skating rink. "
   ]
  },
  {
   "cell_type": "code",
   "execution_count": null,
   "metadata": {},
   "outputs": [],
   "source": []
  }
 ],
 "metadata": {
  "kernelspec": {
   "display_name": "Python 3.6",
   "language": "python",
   "name": "python3"
  },
  "language_info": {
   "codemirror_mode": {
    "name": "ipython",
    "version": 3
   },
   "file_extension": ".py",
   "mimetype": "text/x-python",
   "name": "python",
   "nbconvert_exporter": "python",
   "pygments_lexer": "ipython3",
   "version": "3.6.8"
  }
 },
 "nbformat": 4,
 "nbformat_minor": 1
}
