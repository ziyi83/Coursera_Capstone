{
 "cells": [
  {
   "cell_type": "markdown",
   "metadata": {
    "collapsed": true
   },
   "source": [
    "# Capstone Project - The Battle of Neighbourhoods"
   ]
  },
  {
   "cell_type": "markdown",
   "metadata": {},
   "source": [
    "## Introduction / Business Problem"
   ]
  },
  {
   "cell_type": "markdown",
   "metadata": {},
   "source": [
    "### \"Which location of all the cities in United States would be the best place to start a ice skating rink?\""
   ]
  },
  {
   "cell_type": "markdown",
   "metadata": {},
   "source": [
    "My client is interested in starting a ice skating rink in the best locality of all the cities in United states. She defines a best locatlity based on the following constraints, \n",
    "\n",
    "* Population density of a locality \n",
    "* Per Capital income\n",
    "* Population of each location\n",
    "* Venues in each locality \n",
    "\n",
    "The category of the venues that she's interested in are, \n",
    "\n",
    "* Arts and Entertainment \n",
    "* Shops & Service\n",
    "* College and University\n",
    "* Event\n",
    "* Food\n",
    "* Nightife Spot\n",
    "* Outdoors & Recreation\n",
    "* Professional & Other places\n",
    "* Residence\n",
    "* Travel & Transport"
   ]
  }
 ],
 "metadata": {
  "kernelspec": {
   "display_name": "Python 3.6",
   "language": "python",
   "name": "python3"
  },
  "language_info": {
   "codemirror_mode": {
    "name": "ipython",
    "version": 3
   },
   "file_extension": ".py",
   "mimetype": "text/x-python",
   "name": "python",
   "nbconvert_exporter": "python",
   "pygments_lexer": "ipython3",
   "version": "3.6.8"
  }
 },
 "nbformat": 4,
 "nbformat_minor": 1
}
